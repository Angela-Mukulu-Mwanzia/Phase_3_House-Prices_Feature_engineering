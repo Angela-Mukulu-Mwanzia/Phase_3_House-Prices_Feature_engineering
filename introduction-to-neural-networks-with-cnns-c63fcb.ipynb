{
 "cells": [
  {
   "cell_type": "markdown",
   "id": "6e75f229",
   "metadata": {
    "papermill": {
     "duration": 0.0062,
     "end_time": "2025-01-29T20:21:17.082063",
     "exception": false,
     "start_time": "2025-01-29T20:21:17.075863",
     "status": "completed"
    },
    "tags": []
   },
   "source": [
    "## Introduction to Neural networks with CNNs"
   ]
  },
  {
   "cell_type": "code",
   "execution_count": 1,
   "id": "3b5e8655",
   "metadata": {
    "execution": {
     "iopub.execute_input": "2025-01-29T20:21:17.095470Z",
     "iopub.status.busy": "2025-01-29T20:21:17.095055Z",
     "iopub.status.idle": "2025-01-29T20:21:17.104525Z",
     "shell.execute_reply": "2025-01-29T20:21:17.103408Z"
    },
    "papermill": {
     "duration": 0.019169,
     "end_time": "2025-01-29T20:21:17.106863",
     "exception": false,
     "start_time": "2025-01-29T20:21:17.087694",
     "status": "completed"
    },
    "tags": []
   },
   "outputs": [],
   "source": [
    "# import image preoccesing libraries \n",
    "\n",
    "import matplotlib.pyplot as plt\n",
    "import matplotlib.image as pltimg"
   ]
  },
  {
   "cell_type": "code",
   "execution_count": 2,
   "id": "86e619e5",
   "metadata": {
    "execution": {
     "iopub.execute_input": "2025-01-29T20:21:17.120019Z",
     "iopub.status.busy": "2025-01-29T20:21:17.119200Z",
     "iopub.status.idle": "2025-01-29T20:21:17.409568Z",
     "shell.execute_reply": "2025-01-29T20:21:17.408253Z"
    },
    "papermill": {
     "duration": 0.299453,
     "end_time": "2025-01-29T20:21:17.411939",
     "exception": false,
     "start_time": "2025-01-29T20:21:17.112486",
     "status": "completed"
    },
    "tags": []
   },
   "outputs": [
    {
     "data": {
      "text/plain": [
       "<matplotlib.image.AxesImage at 0x7ee0ac0dc940>"
      ]
     },
     "execution_count": 2,
     "metadata": {},
     "output_type": "execute_result"
    },
    {
     "data": {
      "image/png": "[encoded data removed]",
      "text/plain": [
       "<Figure size 640x480 with 1 Axes>"
      ]
     },
     "metadata": {},
     "output_type": "display_data"
    }
   ],
   "source": [
    "# display an image \n",
    "image=pltimg.imread(\"/kaggle/input/mnistasjpg/trainingSet/trainingSet/8/img_10024.jpg\")\n",
    "plt.imshow(image)"
   ]
  },
  {
   "cell_type": "code",
   "execution_count": 3,
   "id": "e4dbe5b4",
   "metadata": {
    "execution": {
     "iopub.execute_input": "2025-01-29T20:21:17.427591Z",
     "iopub.status.busy": "2025-01-29T20:21:17.427149Z",
     "iopub.status.idle": "2025-01-29T20:21:17.625998Z",
     "shell.execute_reply": "2025-01-29T20:21:17.624978Z"
    },
    "papermill": {
     "duration": 0.209859,
     "end_time": "2025-01-29T20:21:17.628240",
     "exception": false,
     "start_time": "2025-01-29T20:21:17.418381",
     "status": "completed"
    },
    "tags": []
   },
   "outputs": [
    {
     "data": {
      "text/plain": [
       "<matplotlib.image.AxesImage at 0x7ee0ab7a9930>"
      ]
     },
     "execution_count": 3,
     "metadata": {},
     "output_type": "execute_result"
    },
    {
     "data": {
      "image/png": "[encoded data removed]",
      "text/plain": [
       "<Figure size 640x480 with 1 Axes>"
      ]
     },
     "metadata": {},
     "output_type": "display_data"
    }
   ],
   "source": [
    "# another image example \n",
    "image_2=pltimg.imread(\"/kaggle/input/mnistasjpg/trainingSet/trainingSet/6/img_10294.jpg\")\n",
    "plt.imshow(image_2)"
   ]
  },
  {
   "cell_type": "code",
   "execution_count": 4,
   "id": "46cd01fb",
   "metadata": {
    "execution": {
     "iopub.execute_input": "2025-01-29T20:21:17.642358Z",
     "iopub.status.busy": "2025-01-29T20:21:17.641957Z",
     "iopub.status.idle": "2025-01-29T20:21:17.648205Z",
     "shell.execute_reply": "2025-01-29T20:21:17.647217Z"
    },
    "papermill": {
     "duration": 0.015829,
     "end_time": "2025-01-29T20:21:17.650432",
     "exception": false,
     "start_time": "2025-01-29T20:21:17.634603",
     "status": "completed"
    },
    "tags": []
   },
   "outputs": [
    {
     "data": {
      "text/plain": [
       "(28, 28)"
      ]
     },
     "execution_count": 4,
     "metadata": {},
     "output_type": "execute_result"
    }
   ],
   "source": [
    "# display shape of \n",
    "image_2.shape"
   ]
  },
  {
   "cell_type": "code",
   "execution_count": 5,
   "id": "fc71d9d8",
   "metadata": {
    "execution": {
     "iopub.execute_input": "2025-01-29T20:21:17.666203Z",
     "iopub.status.busy": "2025-01-29T20:21:17.665793Z",
     "iopub.status.idle": "2025-01-29T20:21:17.670375Z",
     "shell.execute_reply": "2025-01-29T20:21:17.669372Z"
    },
    "papermill": {
     "duration": 0.014966,
     "end_time": "2025-01-29T20:21:17.672503",
     "exception": false,
     "start_time": "2025-01-29T20:21:17.657537",
     "status": "completed"
    },
    "tags": []
   },
   "outputs": [],
   "source": [
    "# ! pip install tensorflow\n",
    "# ! pip install tensorflow"
   ]
  },
  {
   "cell_type": "code",
   "execution_count": 6,
   "id": "7c9e82fc",
   "metadata": {
    "execution": {
     "iopub.execute_input": "2025-01-29T20:21:17.686689Z",
     "iopub.status.busy": "2025-01-29T20:21:17.686304Z",
     "iopub.status.idle": "2025-01-29T20:21:33.023629Z",
     "shell.execute_reply": "2025-01-29T20:21:33.022415Z"
    },
    "papermill": {
     "duration": 15.347164,
     "end_time": "2025-01-29T20:21:33.026024",
     "exception": false,
     "start_time": "2025-01-29T20:21:17.678860",
     "status": "completed"
    },
    "tags": []
   },
   "outputs": [],
   "source": [
    "# tensfolow imports \n",
    "import tensorflow as tf\n",
    "from tensorflow.keras.preprocessing.image import ImageDataGenerator"
   ]
  },
  {
   "cell_type": "markdown",
   "id": "f4df67a0",
   "metadata": {
    "papermill": {
     "duration": 0.006326,
     "end_time": "2025-01-29T20:21:33.038812",
     "exception": false,
     "start_time": "2025-01-29T20:21:33.032486",
     "status": "completed"
    },
    "tags": []
   },
   "source": [
    "# Generating Data From images\n",
    "\n",
    "```python\n",
    "from tensorflow.keras.preprocessing.image import ImageDataGenerator\n",
    "```\n",
    "\n",
    "Key Parameters of ImageDataGenerator\n",
    "\n",
    "    featurewise_center:\n",
    "        Type: bool\n",
    "        Default: False\n",
    "        Description: If set to True, it will center the data by subtracting the mean of the dataset. This helps in normalizing the input.\n",
    "        Importance: Useful for ensuring that the data has a mean of zero, which can improve convergence during training.\n",
    "\n",
    "    featurewise_std_normalization:\n",
    "        Type: bool\n",
    "        Default: False\n",
    "        Description: If True, it divides the data by the standard deviation of the dataset.\n",
    "        Importance: This further normalizes the data, making it more suitable for training neural networks.\n",
    "\n",
    "    rescale:\n",
    "        Type: float\n",
    "        Default: None\n",
    "        Description: Rescales the pixel values to a different range, often used to normalize pixel values (e.g., 1./255 to convert from [0, 255] to [0, 1]).\n",
    "        Importance: Ensures that input values are in a suitable range for training, which can lead to better performance.\n",
    "\n",
    "    zca_whitening:\n",
    "        Type: bool\n",
    "        Default: False\n",
    "        Description: If True, applies ZCA whitening to the data.\n",
    "        Importance: This can help reduce redundancy in features and improve model performance, although it may increase training time.\n",
    "\n",
    "    rotation_range:\n",
    "        Type: int\n",
    "        Default: 0\n",
    "        Description: Degree range for random rotations.\n",
    "        Importance: Helps the model become invariant to rotations of the object, which is beneficial for image classification tasks.\n",
    "\n",
    "    width_shift_range and height_shift_range:\n",
    "        Type: float or int\n",
    "        Default: 0.0\n",
    "        Description: Fraction or absolute pixels to shift the image horizontally or vertically.\n",
    "        Importance: Allows the model to learn to recognize objects in different positions within the image.\n",
    "\n",
    "    shear_range:\n",
    "        Type: float\n",
    "        Default: 0.0\n",
    "        Description: Shear angle in counter-clockwise direction in degrees.\n",
    "        Importance: Helps the model learn to recognize objects that may be distorted.\n",
    "\n",
    "    zoom_range:\n",
    "        Type: float or [float, float]\n",
    "        Default: 0.0\n",
    "        Description: Range for random zoom.\n",
    "        Importance: Enhances the model’s ability to recognize objects at different scales.\n",
    "\n",
    "    horizontal_flip:\n",
    "        Type: bool\n",
    "        Default: False\n",
    "        Description: Randomly flip inputs horizontally.\n",
    "        Importance: Useful for certain datasets (e.g., faces) where the orientation of the image matters less.\n",
    "\n",
    "    vertical_flip:\n",
    "        Type: bool\n",
    "        Default: False\n",
    "        Description: Randomly flip inputs vertically.\n",
    "        Importance: Similar to horizontal flip but used less frequently unless the context allows for it (e.g., certain types of animals).\n",
    "\n",
    "    fill_mode:\n",
    "        Type: str\n",
    "        Default: 'nearest'\n",
    "        Description: Points outside the boundaries of the input are filled according to the given mode.\n",
    "        Importance: Determines how to fill in the new pixels when transformations (like shifting or rotating) are applied.\n",
    "\n",
    "    validation_split:\n",
    "        Type: float\n",
    "        Default: 0.0\n",
    "        Description: Proportion of the dataset to reserve for validation.\n",
    "        Importance: Useful for automatically splitting your dataset into training and validation sets without needing to manually preprocess the data."
   ]
  },
  {
   "cell_type": "code",
   "execution_count": 7,
   "id": "00f9924b",
   "metadata": {
    "execution": {
     "iopub.execute_input": "2025-01-29T20:21:33.054439Z",
     "iopub.status.busy": "2025-01-29T20:21:33.053200Z",
     "iopub.status.idle": "2025-01-29T20:21:33.058755Z",
     "shell.execute_reply": "2025-01-29T20:21:33.057675Z"
    },
    "papermill": {
     "duration": 0.015626,
     "end_time": "2025-01-29T20:21:33.061229",
     "exception": false,
     "start_time": "2025-01-29T20:21:33.045603",
     "status": "completed"
    },
    "tags": []
   },
   "outputs": [],
   "source": [
    "# image data generator \n",
    "\n",
    "# datagen  =  ImageDataGenerator(\n",
    "    # optional parameters\n",
    "    # rescale=1.0/255,            # Normalize pixel values to [0, 1]\n",
    "    # rotation_range=40,          # Randomly rotate images\n",
    "    # width_shift_range=0.2,      # Randomly shift images horizontally\n",
    "    # height_shift_range=0.2,     # Randomly shift images vertically\n",
    "    # shear_range=0.2,            # Randomly shear images\n",
    "    # zoom_range=0.2,             # Randomly zoom images\n",
    "    # horizontal_flip=True,        # Randomly flip images\n",
    "    # fill_mode='nearest',\n",
    "    # validation_split = 0.2\n",
    "# )"
   ]
  },
  {
   "cell_type": "code",
   "execution_count": 8,
   "id": "0e810b75",
   "metadata": {
    "execution": {
     "iopub.execute_input": "2025-01-29T20:21:33.075934Z",
     "iopub.status.busy": "2025-01-29T20:21:33.075543Z",
     "iopub.status.idle": "2025-01-29T20:21:33.081189Z",
     "shell.execute_reply": "2025-01-29T20:21:33.080113Z"
    },
    "papermill": {
     "duration": 0.01543,
     "end_time": "2025-01-29T20:21:33.083283",
     "exception": false,
     "start_time": "2025-01-29T20:21:33.067853",
     "status": "completed"
    },
    "tags": []
   },
   "outputs": [],
   "source": [
    "# data generator\n",
    "datagen=ImageDataGenerator(\n",
    "    rescale=1.0/255,            # Normalize pixel values to [0, 1]\n",
    "    rotation_range=40,          # Randomly rotate images\n",
    "    width_shift_range=0.2,      # Randomly shift images horizontally\n",
    "    height_shift_range=0.2,     # Randomly shift images vertically\n",
    "    shear_range=0.2,            # Randomly shear images\n",
    "    zoom_range=0.2,             # Randomly zoom images\n",
    "    horizontal_flip=True,        # Randomly flip images\n",
    "    fill_mode='nearest',\n",
    "    validation_split = 0.2\n",
    "\n",
    ")\n"
   ]
  },
  {
   "cell_type": "code",
   "execution_count": 9,
   "id": "2e8b59a9",
   "metadata": {
    "execution": {
     "iopub.execute_input": "2025-01-29T20:21:33.097568Z",
     "iopub.status.busy": "2025-01-29T20:21:33.097145Z",
     "iopub.status.idle": "2025-01-29T20:21:33.102580Z",
     "shell.execute_reply": "2025-01-29T20:21:33.101206Z"
    },
    "papermill": {
     "duration": 0.0153,
     "end_time": "2025-01-29T20:21:33.104961",
     "exception": false,
     "start_time": "2025-01-29T20:21:33.089661",
     "status": "completed"
    },
    "tags": []
   },
   "outputs": [],
   "source": [
    "# define data source \n",
    "folder=\"/kaggle/input/mnistasjpg/trainingSet/trainingSet\""
   ]
  },
  {
   "cell_type": "markdown",
   "id": "8270461b",
   "metadata": {
    "papermill": {
     "duration": 0.006138,
     "end_time": "2025-01-29T20:21:33.117638",
     "exception": false,
     "start_time": "2025-01-29T20:21:33.111500",
     "status": "completed"
    },
    "tags": []
   },
   "source": [
    "## Using Flow from Directory\n",
    "\n",
    "Important Parameters\n",
    "\n",
    "    directory:\n",
    "        Type: str\n",
    "        Description: Path to the target directory containing subdirectories for each class.\n",
    "\n",
    "    target_size:\n",
    "        Type: (int, int)\n",
    "        Description: The dimensions to which all images found will be resized.\n",
    "        Importance: Ensures that all images have the same dimensions, which is necessary for feeding them into a neural network.\n",
    "\n",
    "    batch_size:\n",
    "        Type: int\n",
    "        Description: The number of samples to be yielded from the generator per iteration.\n",
    "        Importance: Affects the number of images processed at once, which can impact training speed and memory usage.\n",
    "\n",
    "    class_mode:\n",
    "        Type: str\n",
    "        Description: Determines the type of label arrays that are returned:\n",
    "            'categorical' for one-hot encoded labels,\n",
    "            'binary' for binary labels,\n",
    "            'sparse' for integer labels,\n",
    "            None for no labels (useful for feature extraction).\n",
    "        Importance: This is crucial for ensuring that your labels are formatted correctly for your specific task.\n",
    "\n",
    "    shuffle:\n",
    "        Type: bool\n",
    "        Default: True\n",
    "        Description: Whether to shuffle the data.\n",
    "        Importance: Shuffling can help the model learn more effectively by preventing it from seeing the data in a fixed order.\n",
    "\n",
    "    seed:\n",
    "        Type: int\n",
    "        Description: Random seed for shuffling and transformations.\n",
    "        Importance: Useful for reproducibility of results.\n",
    "\n",
    "    subset:\n",
    "        Type: str\n",
    "        Options: 'training' or 'validation'\n",
    "        Description: If the validation_split parameter is set, this indicates whether to return the training or validation data.\n",
    "        Importance: Allows for automatic splitting of the dataset into training and validation sets based on the defined split.\n",
    "        \n",
    "    color_mode:\n",
    "        specifies the color format of the images being loaded\n",
    "        Options:\n",
    "            \"grayscale\": Loads images as grayscale. The resulting images will have a single channel.\n",
    "            \"rgb\": Loads images in RGB format (the default). The resulting images will have three channels, representing red, green, and blue.\n",
    "            \"rgba\": Loads images in RGBA format, which includes an additional alpha channel for transparency (if applicable). This option is less common in standard classification tasks."
   ]
  },
  {
   "cell_type": "code",
   "execution_count": 10,
   "id": "ee7f92c7",
   "metadata": {
    "execution": {
     "iopub.execute_input": "2025-01-29T20:21:33.131760Z",
     "iopub.status.busy": "2025-01-29T20:21:33.131393Z",
     "iopub.status.idle": "2025-01-29T20:21:33.136393Z",
     "shell.execute_reply": "2025-01-29T20:21:33.134960Z"
    },
    "papermill": {
     "duration": 0.015228,
     "end_time": "2025-01-29T20:21:33.139133",
     "exception": false,
     "start_time": "2025-01-29T20:21:33.123905",
     "status": "completed"
    },
    "tags": []
   },
   "outputs": [],
   "source": [
    "# training_data = datagen.flow_from_directory(\n",
    "    # folder,\n",
    "    # target_size=(28,28),\n",
    "    # batch_size = 32,\n",
    "    # class_mode = 'categorical',\n",
    "    # color_mode = 'grayscale',\n",
    "    # seed = 42,\n",
    "    # subset=\"training\"\n",
    "# )\n"
   ]
  },
  {
   "cell_type": "code",
   "execution_count": 11,
   "id": "ca91df29",
   "metadata": {
    "execution": {
     "iopub.execute_input": "2025-01-29T20:21:33.156193Z",
     "iopub.status.busy": "2025-01-29T20:21:33.155720Z",
     "iopub.status.idle": "2025-01-29T20:22:28.724852Z",
     "shell.execute_reply": "2025-01-29T20:22:28.723046Z"
    },
    "papermill": {
     "duration": 55.581766,
     "end_time": "2025-01-29T20:22:28.727836",
     "exception": false,
     "start_time": "2025-01-29T20:21:33.146070",
     "status": "completed"
    },
    "tags": []
   },
   "outputs": [
    {
     "name": "stdout",
     "output_type": "stream",
     "text": [
      "Found 33604 images belonging to 10 classes.\n"
     ]
    }
   ],
   "source": [
    "training_data = datagen.flow_from_directory(\n",
    "    folder,\n",
    "    target_size=(28,28),\n",
    "    batch_size = 32,\n",
    "    class_mode = 'categorical',\n",
    "    color_mode = 'grayscale',\n",
    "    seed = 42,\n",
    "    subset=\"training\"\n",
    ")\n"
   ]
  },
  {
   "cell_type": "code",
   "execution_count": 12,
   "id": "4b896ec1",
   "metadata": {
    "execution": {
     "iopub.execute_input": "2025-01-29T20:22:28.746225Z",
     "iopub.status.busy": "2025-01-29T20:22:28.745658Z",
     "iopub.status.idle": "2025-01-29T20:22:41.425685Z",
     "shell.execute_reply": "2025-01-29T20:22:41.424060Z"
    },
    "papermill": {
     "duration": 12.691604,
     "end_time": "2025-01-29T20:22:41.428249",
     "exception": false,
     "start_time": "2025-01-29T20:22:28.736645",
     "status": "completed"
    },
    "tags": []
   },
   "outputs": [
    {
     "name": "stdout",
     "output_type": "stream",
     "text": [
      "Found 8396 images belonging to 10 classes.\n"
     ]
    }
   ],
   "source": [
    "validation = datagen.flow_from_directory(\n",
    "    folder,\n",
    "    target_size=(28,28),\n",
    "    class_mode = \"categorical\",\n",
    "    color_mode = \"grayscale\",\n",
    "    subset = \"validation\"\n",
    ")"
   ]
  },
  {
   "cell_type": "code",
   "execution_count": 13,
   "id": "609a3c86",
   "metadata": {
    "execution": {
     "iopub.execute_input": "2025-01-29T20:22:41.443333Z",
     "iopub.status.busy": "2025-01-29T20:22:41.442918Z",
     "iopub.status.idle": "2025-01-29T20:22:41.451283Z",
     "shell.execute_reply": "2025-01-29T20:22:41.450319Z"
    },
    "papermill": {
     "duration": 0.018558,
     "end_time": "2025-01-29T20:22:41.453663",
     "exception": false,
     "start_time": "2025-01-29T20:22:41.435105",
     "status": "completed"
    },
    "tags": []
   },
   "outputs": [],
   "source": [
    "from tensorflow.keras.models import Sequential\n",
    "from tensorflow.keras.layers import Conv2D,Dense,Flatten,MaxPooling2D,Dropout,Input,BatchNormalization"
   ]
  },
  {
   "cell_type": "markdown",
   "id": "5813c585",
   "metadata": {
    "papermill": {
     "duration": 0.006672,
     "end_time": "2025-01-29T20:22:41.467913",
     "exception": false,
     "start_time": "2025-01-29T20:22:41.461241",
     "status": "completed"
    },
    "tags": []
   },
   "source": [
    "# These layers are fundamental building blocks for constructing convolutional neural networks\n",
    "1. Conv2D\n",
    "\n",
    "        Purpose: Convolutional layer that applies a number of filters to the input data.\n",
    "        Usage: Commonly used in convolutional neural networks (CNNs) for image processing tasks.\n",
    "        Parameters:\n",
    "            filters: Number of output filters (feature maps).\n",
    "            kernel_size: Size of the convolutional kernel (filter). Can be a single integer (for square kernels) or a tuple for different height and width.\n",
    "            strides: The step size for moving the filter across the input. Default is (1, 1).\n",
    "            padding: Can be 'valid' (no padding) or 'same' (padding added to keep the same input shape).\n",
    "            activation: Activation function applied to the output (e.g., 'relu').\n",
    "        Importance: Helps the network learn spatial hierarchies of features, making it suitable for image data.\n",
    "\n",
    "\n",
    "2. Dense\n",
    "\n",
    "        Purpose: Fully connected layer that connects every input to every output.\n",
    "        Usage: Typically used in the final layers of a model for classification tasks.\n",
    "        Parameters:\n",
    "            units: Number of neurons in the layer.\n",
    "            activation: Activation function (e.g., 'relu', 'softmax' for multi-class classification).\n",
    "        Importance: Combines features learned by previous layers and outputs predictions.\n",
    "\n",
    "\n",
    "3. Flatten\n",
    "\n",
    "        Purpose: Converts the multi-dimensional input (e.g., from a Conv2D layer) into a one-dimensional array.\n",
    "        Usage: Used before the Dense layers to prepare data for a fully connected network.\n",
    "        Importance: Essential for transitioning from convolutional layers to fully connected layers by reshaping the data.\n",
    "\n",
    "\n",
    "4. MaxPooling2D\n",
    "\n",
    "        Purpose: Downsamples the input by taking the maximum value over a specified window (pooling region).\n",
    "        Usage: Reduces the spatial dimensions (width and height) of the input, retaining the most important features.\n",
    "        Parameters:\n",
    "            pool_size: Size of the pooling window (e.g., (2, 2)).\n",
    "            strides: Step size for moving the pooling window. If not specified, defaults to pool_size.\n",
    "            padding: Can be 'valid' or 'same'.\n",
    "        Importance: Helps reduce overfitting, decrease computational load, and extract dominant features.\n",
    "\n",
    "\n",
    "5. Dropout\n",
    "\n",
    "        Purpose: Regularization layer that randomly sets a fraction of input units to zero during training.\n",
    "        Usage: Used to prevent overfitting by making the network more robust.\n",
    "        Parameters:\n",
    "            rate: Fraction of the input units to drop (e.g., 0.5 means dropping half of the units).\n",
    "        Importance: Encourages the network to learn more robust features by preventing reliance on specific neurons.\n",
    "\n",
    "6. Input\n",
    "\n",
    "        Purpose: Defines the shape of the input data for the model.\n",
    "        Usage: Used as the first layer in a Sequential model or as part of a functional API.\n",
    "        Parameters:\n",
    "            shape: A tuple representing the input shape (excluding the batch size). For example, (height, width, channels).\n",
    "        Importance: Establishes the expected input shape and allows for error-checking during model creation.\n",
    "\n",
    "\n",
    "7. BatchNormalization\n",
    "\n",
    "        Purpose: Normalizes the activations of the previous layer at each batch, stabilizing the learning process.\n",
    "        Usage: Typically placed after a Conv2D or Dense layer and before the activation function.\n",
    "        Parameters:\n",
    "            momentum: Momentum for the moving average of the mean and variance.\n",
    "            epsilon: Small constant added to the variance to avoid division by zero.\n",
    "        Importance: Helps improve training speed and stability, can allow for higher learning rates, and may reduce the need for other forms of regularization."
   ]
  },
  {
   "cell_type": "code",
   "execution_count": 14,
   "id": "5d73f125",
   "metadata": {
    "execution": {
     "iopub.execute_input": "2025-01-29T20:22:41.482821Z",
     "iopub.status.busy": "2025-01-29T20:22:41.482412Z",
     "iopub.status.idle": "2025-01-29T20:22:41.490531Z",
     "shell.execute_reply": "2025-01-29T20:22:41.489234Z"
    },
    "papermill": {
     "duration": 0.018151,
     "end_time": "2025-01-29T20:22:41.492691",
     "exception": false,
     "start_time": "2025-01-29T20:22:41.474540",
     "status": "completed"
    },
    "tags": []
   },
   "outputs": [],
   "source": [
    "model=Sequential()"
   ]
  },
  {
   "cell_type": "code",
   "execution_count": 15,
   "id": "bc708324",
   "metadata": {
    "execution": {
     "iopub.execute_input": "2025-01-29T20:22:41.507547Z",
     "iopub.status.busy": "2025-01-29T20:22:41.507131Z",
     "iopub.status.idle": "2025-01-29T20:22:41.708372Z",
     "shell.execute_reply": "2025-01-29T20:22:41.706772Z"
    },
    "papermill": {
     "duration": 0.211706,
     "end_time": "2025-01-29T20:22:41.710955",
     "exception": false,
     "start_time": "2025-01-29T20:22:41.499249",
     "status": "completed"
    },
    "tags": []
   },
   "outputs": [],
   "source": [
    "# Building  the model \n",
    "model.add(Input(shape=(28,28,1)))\n",
    "\n",
    "# hidden layers\n",
    "model.add(Conv2D(32,(3,3), activation=\"relu\"))\n",
    "model.add(Conv2D(64,(3,3), activation=\"relu\"))\n",
    "model.add(Conv2D(64,(3,3), activation=\"relu\"))\n",
    "model.add(Conv2D(128,(3,3), activation=\"relu\"))\n",
    "model.add(Flatten())\n",
    "model.add(Dense(32))\n",
    "model.add(Dense(64))\n",
    "model.add(Dense(16, activation=\"relu\"))\n",
    "model.add(Dense(10,activation=\"softmax\"))\n",
    "model.add(Dropout(0.2)) \n",
    "\n",
    "# tabular data\n",
    "# model.add(Input(shape=(df.shape[1])))\n",
    "# model.add(Dropout(0.2)) # add to prevent overfitting\n",
    "# model.add(Dense(256))\n",
    "# model.add(Dense(64))\n",
    "# model.add(Dense(32))\n",
    "# model.add(Dense(10, activation=\"softmax\"))\n",
    "\n",
    "# Example with batch normalization\n",
    "# model.add(tf.keras.layers.Conv2D(32, (3, 3), activation=None, input_shape=(150, 150, 3)))\n",
    "# model.add(BatchNormalization())\n",
    "# model.add(tf.keras.layers.Activation('relu'))\n",
    "# model.add(tf.keras.layers.MaxPooling2D(pool_size=(2, 2)))\n"
   ]
  },
  {
   "cell_type": "markdown",
   "id": "3af1d77e",
   "metadata": {
    "papermill": {
     "duration": 0.006069,
     "end_time": "2025-01-29T20:22:41.723615",
     "exception": false,
     "start_time": "2025-01-29T20:22:41.717546",
     "status": "completed"
    },
    "tags": []
   },
   "source": [
    "Activation functions play a crucial role in neural networks by introducing non-linearity, enabling the model to learn complex patterns\n",
    "\n",
    "1. Sigmoid\n",
    "\n",
    "        Range: (0, 1)\n",
    "\n",
    "        Usage: Often used in binary classification tasks.\\\n",
    "\n",
    "        Characteristics:\n",
    "            Output values are always between 0 and 1.\n",
    "            Can suffer from the vanishing gradient problem, especially in deep networks.\n",
    "\n",
    "2. Tanh (Hyperbolic Tangent)\n",
    "\n",
    "    \n",
    "        Range: (-1, 1)\n",
    "\n",
    "        Usage: Used in hidden layers of neural networks.\n",
    "\n",
    "        Characteristics:\n",
    "            Centers the data around zero, which can help with convergence.\n",
    "            Still suffers from the vanishing gradient problem but is generally better than sigmoid.\n",
    "\n",
    "3. ReLU (Rectified Linear Unit)\n",
    " \n",
    "        Range: (0, ∞)\n",
    "\n",
    "        Usage: Commonly used in hidden layers of deep networks.\n",
    "\n",
    "        Characteristics:\n",
    "            Computationally efficient and mitigates the vanishing gradient problem.\n",
    "            Can suffer from the dying ReLU problem, where neurons can become inactive.\n",
    "\n",
    "4. Leaky ReLU\n",
    "\n",
    "\n",
    "        Range: (-∞, ∞)\n",
    "\n",
    "        Usage: A variant of ReLU to address the dying ReLU problem.\n",
    "\n",
    "        Characteristics:\n",
    "            Allows a small, non-zero gradient when the input is negative.\n",
    "            \n",
    "\n",
    "5. Parametric ReLU (PReLU)\n",
    "\n",
    "\n",
    "        Usage: Helps mitigate the dying ReLU issue with flexibility.\n",
    "\n",
    "        Characteristics:\n",
    "                Provides a more adaptable approach by learning the slope of negative inputs.\n",
    "\n",
    "\n",
    "\n",
    "6. Exponential Linear Unit (ELU)\n",
    "\n",
    "        Range: (-α, ∞)\n",
    "\n",
    "        Usage: Used in hidden layers to provide smoother outputs.\n",
    "\n",
    "        Characteristics: \n",
    "                 Helps avoid the vanishing gradient problem and allows negative outputs.\n",
    "\n",
    "\n",
    "\n",
    "7. Softmax\n",
    "\n",
    "        Range: (0, 1) for each output, and the sum of outputs equals 1.\n",
    "\n",
    "        Usage: Used in the output layer of multi-class classification tasks.\n",
    "\n",
    "        Characteristics:\n",
    "            Converts logits (raw scores) into probabilities.\n",
    "\n",
    "8. Swish\n",
    "\n",
    "        Range: (-∞, ∞)\n",
    "\n",
    "        Usage: Proposed by Google as a more effective alternative to ReLU in some contexts.\n",
    "\n",
    "        Characteristics:\n",
    "                Non-monotonic and can provide better performance in some deep learning models.\n",
    "\n",
    "\n",
    "\n",
    "9. GELU (Gaussian Error Linear Unit)\n",
    "\n",
    "        Usage: Used in transformer models like BERT.\n",
    "\n",
    "        Characteristics:\n",
    "                Combines properties of ReLU and dropout, leading to potentially better performance.\n",
    "\n"
   ]
  },
  {
   "cell_type": "code",
   "execution_count": 16,
   "id": "1af4aebd",
   "metadata": {
    "execution": {
     "iopub.execute_input": "2025-01-29T20:22:41.738532Z",
     "iopub.status.busy": "2025-01-29T20:22:41.737568Z",
     "iopub.status.idle": "2025-01-29T20:22:41.753535Z",
     "shell.execute_reply": "2025-01-29T20:22:41.752417Z"
    },
    "papermill": {
     "duration": 0.025896,
     "end_time": "2025-01-29T20:22:41.755885",
     "exception": false,
     "start_time": "2025-01-29T20:22:41.729989",
     "status": "completed"
    },
    "tags": []
   },
   "outputs": [],
   "source": [
    "# compile the model\n",
    "model.compile(\n",
    "    optimizer=\"adam\",\n",
    "    loss=\"categorical_crossentropy\",\n",
    "    metrics=[\"accuracy\",\"precision\"]\n",
    ")"
   ]
  },
  {
   "cell_type": "markdown",
   "id": "44f7bceb",
   "metadata": {
    "papermill": {
     "duration": 0.007882,
     "end_time": "2025-01-29T20:22:41.770357",
     "exception": false,
     "start_time": "2025-01-29T20:22:41.762475",
     "status": "completed"
    },
    "tags": []
   },
   "source": [
    "# Optmizers\n",
    "An optimizer is an algorithm used to adjust the weights of the neural network based on the loss function's gradient.\n",
    "\n",
    "\n",
    "Adam (Adaptive Moment Estimation):\n",
    "\n",
    "    Description: Combines the advantages of two other popular optimizers: AdaGrad (which works well with sparse gradients) and RMSProp (which works well in non-stationary settings).\n",
    "    Features:\n",
    "        Maintains a moving average of both the gradients and the squared gradients.\n",
    "        Adapts the learning rate for each parameter, improving convergence speed.\n",
    "    Usage: optimizer='adam' is a default choice in many applications due to its efficiency and good performance across various tasks.\n",
    "\n",
    "SGD (Stochastic Gradient Descent):\n",
    "\n",
    "    Description: The basic form of the gradient descent algorithm. It updates parameters using a small batch of data rather than the entire dataset.\n",
    "    Features:\n",
    "        Simple to implement.\n",
    "        Can include momentum to improve convergence.\n",
    "    Usage: Often used for its simplicity but may require more tuning of the learning rate.\n",
    "\n",
    "RMSProp:\n",
    "\n",
    "    Description: An adaptive learning rate optimizer that adjusts the learning rate for each parameter based on the average of recent gradients.\n",
    "    Features:\n",
    "        Particularly effective for recurrent neural networks and other tasks with noisy gradients.\n",
    "    Usage: Good for non-stationary objectives.\n",
    "\n",
    "Adagrad:\n",
    "\n",
    "    Description: Adapts the learning rate for each parameter based on how frequently they're updated.\n",
    "    Features:\n",
    "        Works well for sparse data but can lead to a rapid decay of the learning rate.\n",
    "    Usage: Not as commonly used as Adam or RMSProp for most tasks.\n",
    "\n",
    "Nadam:\n",
    "\n",
    "    Description: Combines Adam with Nesterov momentum, which can lead to better convergence.\n",
    "    Usage: Useful for many deep learning tasks."
   ]
  },
  {
   "cell_type": "markdown",
   "id": "5f03b1a3",
   "metadata": {
    "papermill": {
     "duration": 0.006175,
     "end_time": "2025-01-29T20:22:41.783119",
     "exception": false,
     "start_time": "2025-01-29T20:22:41.776944",
     "status": "completed"
    },
    "tags": []
   },
   "source": [
    "# Loss function\n",
    "\n",
    "The loss function quantifies how well the model's predictions match the actual data\n",
    "\n",
    "Binary Crossentropy\n",
    "\n",
    "    Usage: Used for binary classification tasks.\n",
    "\n",
    "    Characteristics: Measures the dissimilarity between predicted probabilities and true binary labels.\n",
    "\n",
    "Sparse Categorical Crossentropy\n",
    "\n",
    "    Usage: Similar to categorical crossentropy but used when the labels are integers rather than one-hot encoded vectors.\n",
    "    Characteristics: Efficient for multi-class classification tasks with integer labels.\n",
    "\n",
    "Mean Squared Error (MSE)\n",
    "\n",
    "    Usage: Commonly used for regression tasks.\n",
    "    Characteristics: Measures the average squared difference between predicted values and actual values.\n",
    "\n",
    "Mean Absolute Error (MAE)\n",
    "\n",
    "    Usage: Also used for regression tasks.\n",
    "    Characteristics: Measures the average absolute difference between predicted values and actual values. Less sensitive to outliers than MSE.\n",
    "Categorical Crossentropy:\n",
    "\n",
    "    Usage: Commonly used for multi-class classification tasks where classes are one-hot encoded.\n",
    "    Characteristics: Measures the dissimilarity between the predicted probability distribution and the true distribution.\n",
    "Huber Loss\n",
    "\n",
    "    Usage: A combination of MSE and MAE, used for regression tasks.\n",
    "    Characteristics: Less sensitive to outliers than MSE. It behaves like MSE when the error is small and like MAE when the error is large.\n"
   ]
  },
  {
   "cell_type": "markdown",
   "id": "810e3121",
   "metadata": {
    "papermill": {
     "duration": 0.006101,
     "end_time": "2025-01-29T20:22:41.795725",
     "exception": false,
     "start_time": "2025-01-29T20:22:41.789624",
     "status": "completed"
    },
    "tags": []
   },
   "source": [
    "# Metrics\n",
    "\n",
    "Metrics are used to evaluate the performance of the model during training and testing. The metric you mentioned is:\n",
    "\n",
    "    Accuracy:\n",
    "        characteristic : The ratio of correctly predicted instances to the total instances.\n",
    "        Usage: A straightforward metric for classification problems. It gives a quick idea of model perfomance\n",
    "        \n",
    "    Precision\n",
    "\n",
    "        Usage: Measures the accuracy of positive predictions.\n",
    "        Characteristics: Important in cases where false positives are costly.\n",
    "\n",
    "    Recall (Sensitivity)\n",
    "\n",
    "        Usage: Measures the ability of a model to find all relevant cases (true positives).\n",
    "\n",
    "        Characteristics: Important in cases where missing a positive instance is costly.\n",
    "\n",
    "    F1 Score\n",
    "\n",
    "        Usage: Harmonic mean of precision and recall, useful for imbalanced datasets.\n",
    "\n",
    "        Characteristics: Balances precision and recall, providing a single metric to evaluate performance.\n",
    "\n",
    "    AUC-ROC (Area Under the Receiver Operating Characteristic Curve)\n",
    "\n",
    "        Usage: Measures the ability of the model to distinguish between classes.\n",
    "        \n",
    "        Characteristics: AUC provides a single value representing the model's performance across all classification thresholds.\n",
    "\n",
    "    Top-k Accuracy\n",
    "\n",
    "        Usage: Used in multi-class classification where you want to know if the true label is within the top k predictions.\n",
    "        Characteristics: Particularly useful in problems with a large number of classes (e.g., image classification)."
   ]
  },
  {
   "cell_type": "code",
   "execution_count": 17,
   "id": "20a74e78",
   "metadata": {
    "execution": {
     "iopub.execute_input": "2025-01-29T20:22:41.810262Z",
     "iopub.status.busy": "2025-01-29T20:22:41.809771Z",
     "iopub.status.idle": "2025-01-29T20:22:41.834233Z",
     "shell.execute_reply": "2025-01-29T20:22:41.833230Z"
    },
    "papermill": {
     "duration": 0.033997,
     "end_time": "2025-01-29T20:22:41.836223",
     "exception": false,
     "start_time": "2025-01-29T20:22:41.802226",
     "status": "completed"
    },
    "tags": []
   },
   "outputs": [
    {
     "data": {
      "text/html": [
       "<pre style=\"white-space:pre;overflow-x:auto;line-height:normal;font-family:Menlo,'DejaVu Sans Mono',consolas,'Courier New',monospace\"><span style=\"font-weight: bold\">Model: \"sequential\"</span>\n",
       "</pre>\n"
      ],
      "text/plain": [
       "\u001b[1mModel: \"sequential\"\u001b[0m\n"
      ]
     },
     "metadata": {},
     "output_type": "display_data"
    },
    {
     "data": {
      "text/html": [
       "<pre style=\"white-space:pre;overflow-x:auto;line-height:normal;font-family:Menlo,'DejaVu Sans Mono',consolas,'Courier New',monospace\">┏━━━━━━━━━━━━━━━━━━━━━━━━━━━━━━━━━┳━━━━━━━━━━━━━━━━━━━━━━━━┳━━━━━━━━━━━━━━━┓\n",
       "┃<span style=\"font-weight: bold\"> Layer (type)                    </span>┃<span style=\"font-weight: bold\"> Output Shape           </span>┃<span style=\"font-weight: bold\">       Param # </span>┃\n",
       "┡━━━━━━━━━━━━━━━━━━━━━━━━━━━━━━━━━╇━━━━━━━━━━━━━━━━━━━━━━━━╇━━━━━━━━━━━━━━━┩\n",
       "│ conv2d (<span style=\"color: #0087ff; text-decoration-color: #0087ff\">Conv2D</span>)                 │ (<span style=\"color: #00d7ff; text-decoration-color: #00d7ff\">None</span>, <span style=\"color: #00af00; text-decoration-color: #00af00\">26</span>, <span style=\"color: #00af00; text-decoration-color: #00af00\">26</span>, <span style=\"color: #00af00; text-decoration-color: #00af00\">32</span>)     │           <span style=\"color: #00af00; text-decoration-color: #00af00\">320</span> │\n",
       "├─────────────────────────────────┼────────────────────────┼───────────────┤\n",
       "│ conv2d_1 (<span style=\"color: #0087ff; text-decoration-color: #0087ff\">Conv2D</span>)               │ (<span style=\"color: #00d7ff; text-decoration-color: #00d7ff\">None</span>, <span style=\"color: #00af00; text-decoration-color: #00af00\">24</span>, <span style=\"color: #00af00; text-decoration-color: #00af00\">24</span>, <span style=\"color: #00af00; text-decoration-color: #00af00\">64</span>)     │        <span style=\"color: #00af00; text-decoration-color: #00af00\">18,496</span> │\n",
       "├─────────────────────────────────┼────────────────────────┼───────────────┤\n",
       "│ conv2d_2 (<span style=\"color: #0087ff; text-decoration-color: #0087ff\">Conv2D</span>)               │ (<span style=\"color: #00d7ff; text-decoration-color: #00d7ff\">None</span>, <span style=\"color: #00af00; text-decoration-color: #00af00\">22</span>, <span style=\"color: #00af00; text-decoration-color: #00af00\">22</span>, <span style=\"color: #00af00; text-decoration-color: #00af00\">64</span>)     │        <span style=\"color: #00af00; text-decoration-color: #00af00\">36,928</span> │\n",
       "├─────────────────────────────────┼────────────────────────┼───────────────┤\n",
       "│ conv2d_3 (<span style=\"color: #0087ff; text-decoration-color: #0087ff\">Conv2D</span>)               │ (<span style=\"color: #00d7ff; text-decoration-color: #00d7ff\">None</span>, <span style=\"color: #00af00; text-decoration-color: #00af00\">20</span>, <span style=\"color: #00af00; text-decoration-color: #00af00\">20</span>, <span style=\"color: #00af00; text-decoration-color: #00af00\">128</span>)    │        <span style=\"color: #00af00; text-decoration-color: #00af00\">73,856</span> │\n",
       "├─────────────────────────────────┼────────────────────────┼───────────────┤\n",
       "│ flatten (<span style=\"color: #0087ff; text-decoration-color: #0087ff\">Flatten</span>)               │ (<span style=\"color: #00d7ff; text-decoration-color: #00d7ff\">None</span>, <span style=\"color: #00af00; text-decoration-color: #00af00\">51200</span>)          │             <span style=\"color: #00af00; text-decoration-color: #00af00\">0</span> │\n",
       "├─────────────────────────────────┼────────────────────────┼───────────────┤\n",
       "│ dense (<span style=\"color: #0087ff; text-decoration-color: #0087ff\">Dense</span>)                   │ (<span style=\"color: #00d7ff; text-decoration-color: #00d7ff\">None</span>, <span style=\"color: #00af00; text-decoration-color: #00af00\">32</span>)             │     <span style=\"color: #00af00; text-decoration-color: #00af00\">1,638,432</span> │\n",
       "├─────────────────────────────────┼────────────────────────┼───────────────┤\n",
       "│ dense_1 (<span style=\"color: #0087ff; text-decoration-color: #0087ff\">Dense</span>)                 │ (<span style=\"color: #00d7ff; text-decoration-color: #00d7ff\">None</span>, <span style=\"color: #00af00; text-decoration-color: #00af00\">64</span>)             │         <span style=\"color: #00af00; text-decoration-color: #00af00\">2,112</span> │\n",
       "├─────────────────────────────────┼────────────────────────┼───────────────┤\n",
       "│ dense_2 (<span style=\"color: #0087ff; text-decoration-color: #0087ff\">Dense</span>)                 │ (<span style=\"color: #00d7ff; text-decoration-color: #00d7ff\">None</span>, <span style=\"color: #00af00; text-decoration-color: #00af00\">16</span>)             │         <span style=\"color: #00af00; text-decoration-color: #00af00\">1,040</span> │\n",
       "├─────────────────────────────────┼────────────────────────┼───────────────┤\n",
       "│ dense_3 (<span style=\"color: #0087ff; text-decoration-color: #0087ff\">Dense</span>)                 │ (<span style=\"color: #00d7ff; text-decoration-color: #00d7ff\">None</span>, <span style=\"color: #00af00; text-decoration-color: #00af00\">10</span>)             │           <span style=\"color: #00af00; text-decoration-color: #00af00\">170</span> │\n",
       "├─────────────────────────────────┼────────────────────────┼───────────────┤\n",
       "│ dropout (<span style=\"color: #0087ff; text-decoration-color: #0087ff\">Dropout</span>)               │ (<span style=\"color: #00d7ff; text-decoration-color: #00d7ff\">None</span>, <span style=\"color: #00af00; text-decoration-color: #00af00\">10</span>)             │             <span style=\"color: #00af00; text-decoration-color: #00af00\">0</span> │\n",
       "└─────────────────────────────────┴────────────────────────┴───────────────┘\n",
       "</pre>\n"
      ],
      "text/plain": [
       "┏━━━━━━━━━━━━━━━━━━━━━━━━━━━━━━━━━┳━━━━━━━━━━━━━━━━━━━━━━━━┳━━━━━━━━━━━━━━━┓\n",
       "┃\u001b[1m \u001b[0m\u001b[1mLayer (type)                   \u001b[0m\u001b[1m \u001b[0m┃\u001b[1m \u001b[0m\u001b[1mOutput Shape          \u001b[0m\u001b[1m \u001b[0m┃\u001b[1m \u001b[0m\u001b[1m      Param #\u001b[0m\u001b[1m \u001b[0m┃\n",
       "┡━━━━━━━━━━━━━━━━━━━━━━━━━━━━━━━━━╇━━━━━━━━━━━━━━━━━━━━━━━━╇━━━━━━━━━━━━━━━┩\n",
       "│ conv2d (\u001b[38;5;33mConv2D\u001b[0m)                 │ (\u001b[38;5;45mNone\u001b[0m, \u001b[38;5;34m26\u001b[0m, \u001b[38;5;34m26\u001b[0m, \u001b[38;5;34m32\u001b[0m)     │           \u001b[38;5;34m320\u001b[0m │\n",
       "├─────────────────────────────────┼────────────────────────┼───────────────┤\n",
       "│ conv2d_1 (\u001b[38;5;33mConv2D\u001b[0m)               │ (\u001b[38;5;45mNone\u001b[0m, \u001b[38;5;34m24\u001b[0m, \u001b[38;5;34m24\u001b[0m, \u001b[38;5;34m64\u001b[0m)     │        \u001b[38;5;34m18,496\u001b[0m │\n",
       "├─────────────────────────────────┼────────────────────────┼───────────────┤\n",
       "│ conv2d_2 (\u001b[38;5;33mConv2D\u001b[0m)               │ (\u001b[38;5;45mNone\u001b[0m, \u001b[38;5;34m22\u001b[0m, \u001b[38;5;34m22\u001b[0m, \u001b[38;5;34m64\u001b[0m)     │        \u001b[38;5;34m36,928\u001b[0m │\n",
       "├─────────────────────────────────┼────────────────────────┼───────────────┤\n",
       "│ conv2d_3 (\u001b[38;5;33mConv2D\u001b[0m)               │ (\u001b[38;5;45mNone\u001b[0m, \u001b[38;5;34m20\u001b[0m, \u001b[38;5;34m20\u001b[0m, \u001b[38;5;34m128\u001b[0m)    │        \u001b[38;5;34m73,856\u001b[0m │\n",
       "├─────────────────────────────────┼────────────────────────┼───────────────┤\n",
       "│ flatten (\u001b[38;5;33mFlatten\u001b[0m)               │ (\u001b[38;5;45mNone\u001b[0m, \u001b[38;5;34m51200\u001b[0m)          │             \u001b[38;5;34m0\u001b[0m │\n",
       "├─────────────────────────────────┼────────────────────────┼───────────────┤\n",
       "│ dense (\u001b[38;5;33mDense\u001b[0m)                   │ (\u001b[38;5;45mNone\u001b[0m, \u001b[38;5;34m32\u001b[0m)             │     \u001b[38;5;34m1,638,432\u001b[0m │\n",
       "├─────────────────────────────────┼────────────────────────┼───────────────┤\n",
       "│ dense_1 (\u001b[38;5;33mDense\u001b[0m)                 │ (\u001b[38;5;45mNone\u001b[0m, \u001b[38;5;34m64\u001b[0m)             │         \u001b[38;5;34m2,112\u001b[0m │\n",
       "├─────────────────────────────────┼────────────────────────┼───────────────┤\n",
       "│ dense_2 (\u001b[38;5;33mDense\u001b[0m)                 │ (\u001b[38;5;45mNone\u001b[0m, \u001b[38;5;34m16\u001b[0m)             │         \u001b[38;5;34m1,040\u001b[0m │\n",
       "├─────────────────────────────────┼────────────────────────┼───────────────┤\n",
       "│ dense_3 (\u001b[38;5;33mDense\u001b[0m)                 │ (\u001b[38;5;45mNone\u001b[0m, \u001b[38;5;34m10\u001b[0m)             │           \u001b[38;5;34m170\u001b[0m │\n",
       "├─────────────────────────────────┼────────────────────────┼───────────────┤\n",
       "│ dropout (\u001b[38;5;33mDropout\u001b[0m)               │ (\u001b[38;5;45mNone\u001b[0m, \u001b[38;5;34m10\u001b[0m)             │             \u001b[38;5;34m0\u001b[0m │\n",
       "└─────────────────────────────────┴────────────────────────┴───────────────┘\n"
      ]
     },
     "metadata": {},
     "output_type": "display_data"
    },
    {
     "data": {
      "text/html": [
       "<pre style=\"white-space:pre;overflow-x:auto;line-height:normal;font-family:Menlo,'DejaVu Sans Mono',consolas,'Courier New',monospace\"><span style=\"font-weight: bold\"> Total params: </span><span style=\"color: #00af00; text-decoration-color: #00af00\">1,771,354</span> (6.76 MB)\n",
       "</pre>\n"
      ],
      "text/plain": [
       "\u001b[1m Total params: \u001b[0m\u001b[38;5;34m1,771,354\u001b[0m (6.76 MB)\n"
      ]
     },
     "metadata": {},
     "output_type": "display_data"
    },
    {
     "data": {
      "text/html": [
       "<pre style=\"white-space:pre;overflow-x:auto;line-height:normal;font-family:Menlo,'DejaVu Sans Mono',consolas,'Courier New',monospace\"><span style=\"font-weight: bold\"> Trainable params: </span><span style=\"color: #00af00; text-decoration-color: #00af00\">1,771,354</span> (6.76 MB)\n",
       "</pre>\n"
      ],
      "text/plain": [
       "\u001b[1m Trainable params: \u001b[0m\u001b[38;5;34m1,771,354\u001b[0m (6.76 MB)\n"
      ]
     },
     "metadata": {},
     "output_type": "display_data"
    },
    {
     "data": {
      "text/html": [
       "<pre style=\"white-space:pre;overflow-x:auto;line-height:normal;font-family:Menlo,'DejaVu Sans Mono',consolas,'Courier New',monospace\"><span style=\"font-weight: bold\"> Non-trainable params: </span><span style=\"color: #00af00; text-decoration-color: #00af00\">0</span> (0.00 B)\n",
       "</pre>\n"
      ],
      "text/plain": [
       "\u001b[1m Non-trainable params: \u001b[0m\u001b[38;5;34m0\u001b[0m (0.00 B)\n"
      ]
     },
     "metadata": {},
     "output_type": "display_data"
    }
   ],
   "source": [
    "# show model structer\n",
    "model.summary()\n"
   ]
  },
  {
   "cell_type": "code",
   "execution_count": 18,
   "id": "6e5ecd17",
   "metadata": {
    "execution": {
     "iopub.execute_input": "2025-01-29T20:22:41.852658Z",
     "iopub.status.busy": "2025-01-29T20:22:41.851624Z",
     "iopub.status.idle": "2025-01-29T21:20:04.527294Z",
     "shell.execute_reply": "2025-01-29T21:20:04.526248Z"
    },
    "papermill": {
     "duration": 3443.88405,
     "end_time": "2025-01-29T21:20:05.727514",
     "exception": false,
     "start_time": "2025-01-29T20:22:41.843464",
     "status": "completed"
    },
    "tags": []
   },
   "outputs": [
    {
     "name": "stdout",
     "output_type": "stream",
     "text": [
      "Epoch 1/20\n"
     ]
    },
    {
     "name": "stderr",
     "output_type": "stream",
     "text": [
      "/opt/conda/lib/python3.10/site-packages/keras/src/trainers/data_adapters/py_dataset_adapter.py:121: UserWarning: Your `PyDataset` class should call `super().__init__(**kwargs)` in its constructor. `**kwargs` can include `workers`, `use_multiprocessing`, `max_queue_size`. Do not pass these arguments to `fit()`, as they will be ignored.\n",
      "  self._warn_if_super_not_called()\n"
     ]
    },
    {
     "name": "stdout",
     "output_type": "stream",
     "text": [
      "\u001b[1m1051/1051\u001b[0m \u001b[32m━━━━━━━━━━━━━━━━━━━━\u001b[0m\u001b[37m\u001b[0m \u001b[1m280s\u001b[0m 262ms/step - accuracy: 0.2832 - loss: 4.5285 - precision: 0.6337 - val_accuracy: 0.6928 - val_loss: 0.9212 - val_precision: 0.8002\n",
      "Epoch 2/20\n",
      "\u001b[1m1051/1051\u001b[0m \u001b[32m━━━━━━━━━━━━━━━━━━━━\u001b[0m\u001b[37m\u001b[0m \u001b[1m167s\u001b[0m 159ms/step - accuracy: 0.6147 - loss: 3.7628 - precision: 0.7760 - val_accuracy: 0.7918 - val_loss: 0.6338 - val_precision: 0.8411\n",
      "Epoch 3/20\n",
      "\u001b[1m1051/1051\u001b[0m \u001b[32m━━━━━━━━━━━━━━━━━━━━\u001b[0m\u001b[37m\u001b[0m \u001b[1m167s\u001b[0m 158ms/step - accuracy: 0.6659 - loss: 3.6844 - precision: 0.8227 - val_accuracy: 0.8359 - val_loss: 0.4828 - val_precision: 0.8725\n",
      "Epoch 4/20\n",
      "\u001b[1m1051/1051\u001b[0m \u001b[32m━━━━━━━━━━━━━━━━━━━━\u001b[0m\u001b[37m\u001b[0m \u001b[1m165s\u001b[0m 157ms/step - accuracy: 0.6970 - loss: 3.5021 - precision: 0.8515 - val_accuracy: 0.8378 - val_loss: 0.4917 - val_precision: 0.8734\n",
      "Epoch 5/20\n",
      "\u001b[1m1051/1051\u001b[0m \u001b[32m━━━━━━━━━━━━━━━━━━━━\u001b[0m\u001b[37m\u001b[0m \u001b[1m164s\u001b[0m 156ms/step - accuracy: 0.7148 - loss: 3.3881 - precision: 0.8677 - val_accuracy: 0.8790 - val_loss: 0.3656 - val_precision: 0.9079\n",
      "Epoch 6/20\n",
      "\u001b[1m1051/1051\u001b[0m \u001b[32m━━━━━━━━━━━━━━━━━━━━\u001b[0m\u001b[37m\u001b[0m \u001b[1m163s\u001b[0m 155ms/step - accuracy: 0.7182 - loss: 3.4686 - precision: 0.8810 - val_accuracy: 0.8845 - val_loss: 0.3513 - val_precision: 0.9097\n",
      "Epoch 7/20\n",
      "\u001b[1m1051/1051\u001b[0m \u001b[32m━━━━━━━━━━━━━━━━━━━━\u001b[0m\u001b[37m\u001b[0m \u001b[1m163s\u001b[0m 155ms/step - accuracy: 0.7275 - loss: 3.4290 - precision: 0.8892 - val_accuracy: 0.8949 - val_loss: 0.3302 - val_precision: 0.9184\n",
      "Epoch 8/20\n",
      "\u001b[1m1051/1051\u001b[0m \u001b[32m━━━━━━━━━━━━━━━━━━━━\u001b[0m\u001b[37m\u001b[0m \u001b[1m164s\u001b[0m 155ms/step - accuracy: 0.7280 - loss: 3.4867 - precision: 0.8954 - val_accuracy: 0.9054 - val_loss: 0.3004 - val_precision: 0.9235\n",
      "Epoch 9/20\n",
      "\u001b[1m1051/1051\u001b[0m \u001b[32m━━━━━━━━━━━━━━━━━━━━\u001b[0m\u001b[37m\u001b[0m \u001b[1m165s\u001b[0m 156ms/step - accuracy: 0.7290 - loss: 3.4858 - precision: 0.8995 - val_accuracy: 0.9100 - val_loss: 0.2948 - val_precision: 0.9316\n",
      "Epoch 10/20\n",
      "\u001b[1m1051/1051\u001b[0m \u001b[32m━━━━━━━━━━━━━━━━━━━━\u001b[0m\u001b[37m\u001b[0m \u001b[1m163s\u001b[0m 155ms/step - accuracy: 0.7311 - loss: 3.4574 - precision: 0.9037 - val_accuracy: 0.9241 - val_loss: 0.2511 - val_precision: 0.9376\n",
      "Epoch 11/20\n",
      "\u001b[1m1051/1051\u001b[0m \u001b[32m━━━━━━━━━━━━━━━━━━━━\u001b[0m\u001b[37m\u001b[0m \u001b[1m163s\u001b[0m 155ms/step - accuracy: 0.7410 - loss: 3.3635 - precision: 0.9073 - val_accuracy: 0.9162 - val_loss: 0.2609 - val_precision: 0.9334\n",
      "Epoch 12/20\n",
      "\u001b[1m1051/1051\u001b[0m \u001b[32m━━━━━━━━━━━━━━━━━━━━\u001b[0m\u001b[37m\u001b[0m \u001b[1m164s\u001b[0m 155ms/step - accuracy: 0.7421 - loss: 3.3882 - precision: 0.9124 - val_accuracy: 0.9163 - val_loss: 0.2629 - val_precision: 0.9335\n",
      "Epoch 13/20\n",
      "\u001b[1m1051/1051\u001b[0m \u001b[32m━━━━━━━━━━━━━━━━━━━━\u001b[0m\u001b[37m\u001b[0m \u001b[1m169s\u001b[0m 160ms/step - accuracy: 0.7375 - loss: 3.4755 - precision: 0.9105 - val_accuracy: 0.9250 - val_loss: 0.2434 - val_precision: 0.9390\n",
      "Epoch 14/20\n",
      "\u001b[1m1051/1051\u001b[0m \u001b[32m━━━━━━━━━━━━━━━━━━━━\u001b[0m\u001b[37m\u001b[0m \u001b[1m198s\u001b[0m 156ms/step - accuracy: 0.7397 - loss: 3.4580 - precision: 0.9152 - val_accuracy: 0.9173 - val_loss: 0.2591 - val_precision: 0.9331\n",
      "Epoch 15/20\n",
      "\u001b[1m1051/1051\u001b[0m \u001b[32m━━━━━━━━━━━━━━━━━━━━\u001b[0m\u001b[37m\u001b[0m \u001b[1m166s\u001b[0m 158ms/step - accuracy: 0.7453 - loss: 3.4436 - precision: 0.9213 - val_accuracy: 0.9098 - val_loss: 0.2902 - val_precision: 0.9273\n",
      "Epoch 16/20\n",
      "\u001b[1m1051/1051\u001b[0m \u001b[32m━━━━━━━━━━━━━━━━━━━━\u001b[0m\u001b[37m\u001b[0m \u001b[1m164s\u001b[0m 156ms/step - accuracy: 0.7415 - loss: 3.4506 - precision: 0.9151 - val_accuracy: 0.9198 - val_loss: 0.2723 - val_precision: 0.9315\n",
      "Epoch 17/20\n",
      "\u001b[1m1051/1051\u001b[0m \u001b[32m━━━━━━━━━━━━━━━━━━━━\u001b[0m\u001b[37m\u001b[0m \u001b[1m164s\u001b[0m 156ms/step - accuracy: 0.7518 - loss: 3.3286 - precision: 0.9199 - val_accuracy: 0.9214 - val_loss: 0.2499 - val_precision: 0.9336\n",
      "Epoch 18/20\n",
      "\u001b[1m1051/1051\u001b[0m \u001b[32m━━━━━━━━━━━━━━━━━━━━\u001b[0m\u001b[37m\u001b[0m \u001b[1m164s\u001b[0m 156ms/step - accuracy: 0.7455 - loss: 3.4036 - precision: 0.9207 - val_accuracy: 0.9290 - val_loss: 0.2310 - val_precision: 0.9374\n",
      "Epoch 19/20\n",
      "\u001b[1m1051/1051\u001b[0m \u001b[32m━━━━━━━━━━━━━━━━━━━━\u001b[0m\u001b[37m\u001b[0m \u001b[1m165s\u001b[0m 156ms/step - accuracy: 0.7485 - loss: 3.3877 - precision: 0.9216 - val_accuracy: 0.9316 - val_loss: 0.2233 - val_precision: 0.9431\n",
      "Epoch 20/20\n",
      "\u001b[1m1051/1051\u001b[0m \u001b[32m━━━━━━━━━━━━━━━━━━━━\u001b[0m\u001b[37m\u001b[0m \u001b[1m165s\u001b[0m 156ms/step - accuracy: 0.7550 - loss: 3.3309 - precision: 0.9296 - val_accuracy: 0.9346 - val_loss: 0.2130 - val_precision: 0.9465\n"
     ]
    },
    {
     "data": {
      "text/plain": [
       "<keras.src.callbacks.history.History at 0x7ee0375a7f10>"
      ]
     },
     "execution_count": 18,
     "metadata": {},
     "output_type": "execute_result"
    }
   ],
   "source": [
    "# Train the model \n",
    "model.fit(training_data,epochs=20, batch_size=32, validation_data=validation)"
   ]
  }
 ],
 "metadata": {
  "kaggle": {
   "accelerator": "gpu",
   "dataSources": [
    {
     "datasetId": 1272,
     "sourceId": 2280,
     "sourceType": "datasetVersion"
    }
   ],
   "dockerImageVersionId": 30775,
   "isGpuEnabled": true,
   "isInternetEnabled": false,
   "language": "python",
   "sourceType": "notebook"
  },
  "kernelspec": {
   "display_name": "Python 3",
   "language": "python",
   "name": "python3"
  },
  "language_info": {
   "codemirror_mode": {
    "name": "ipython",
    "version": 3
   },
   "file_extension": ".py",
   "mimetype": "text/x-python",
   "name": "python",
   "nbconvert_exporter": "python",
   "pygments_lexer": "ipython3",
   "version": "3.10.14"
  },
  "papermill": {
   "default_parameters": {},
   "duration": 3534.886608,
   "end_time": "2025-01-29T21:20:08.509960",
   "environment_variables": {},
   "exception": null,
   "input_path": "__notebook__.ipynb",
   "output_path": "__notebook__.ipynb",
   "parameters": {},
   "start_time": "2025-01-29T20:21:13.623352",
   "version": "2.6.0"
  }
 },
 "nbformat": 4,
 "nbformat_minor": 5
}
